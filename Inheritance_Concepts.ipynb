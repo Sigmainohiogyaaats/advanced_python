{
 "cells": [
  {
   "cell_type": "code",
   "execution_count": null,
   "metadata": {},
   "outputs": [],
   "source": []
  },
  {
   "cell_type": "code",
   "execution_count": 1,
   "metadata": {},
   "outputs": [
    {
     "name": "stdout",
     "output_type": "stream",
     "text": [
      "Buddy\n",
      "3\n",
      "Canine\n"
     ]
    }
   ],
   "source": [
    "## Object Oriented Programming Concepts in Python\n",
    "\n",
    "class Dog:\n",
    "    species = \"Canine\"  # Class attribute\n",
    "\n",
    "    def __init__(self, name, age):\n",
    "        self.name = name  # Instance attribute\n",
    "        self.age = age  # Instance attribute\n",
    "\n",
    "# Creating an object of the Dog class\n",
    "dog1 = Dog(\"Buddy\", 3)\n",
    "\n",
    "print(dog1.name)\n",
    "print(dog1.age) \n",
    "print(dog1.species)"
   ]
  },
  {
   "cell_type": "code",
   "execution_count": 2,
   "metadata": {},
   "outputs": [
    {
     "name": "stdout",
     "output_type": "stream",
     "text": [
      "Canine\n",
      "Buddy\n",
      "Charlie\n",
      "Max\n",
      "Feline\n",
      "Feline\n"
     ]
    }
   ],
   "source": [
    "class Dog:\n",
    "    # Class variable\n",
    "    species = \"Canine\"\n",
    "\n",
    "    def __init__(self, name, age):\n",
    "        # Instance variables\n",
    "        self.name = name\n",
    "        self.age = age\n",
    "\n",
    "# Create objects\n",
    "dog1 = Dog(\"Buddy\", 3)\n",
    "dog2 = Dog(\"Charlie\", 5)\n",
    "\n",
    "# Access class and instance variables\n",
    "print(dog1.species)  # (Class variable)\n",
    "print(dog1.name)     # (Instance variable)\n",
    "print(dog2.name)     # (Instance variable)\n",
    "\n",
    "# Modify instance variables\n",
    "dog1.name = \"Max\"\n",
    "print(dog1.name)     # (Updated instance variable)\n",
    "\n",
    "# Modify class variable\n",
    "Dog.species = \"Feline\"\n",
    "print(dog1.species)  # (Updated class variable)\n",
    "print(dog2.species)"
   ]
  },
  {
   "cell_type": "code",
   "execution_count": 3,
   "metadata": {},
   "outputs": [
    {
     "name": "stdout",
     "output_type": "stream",
     "text": [
      "Dog's Name: Buddy\n",
      "Labrador woofs\n"
     ]
    }
   ],
   "source": [
    "# Single Inheritance\n",
    "class Dog:\n",
    "    def __init__(self, name):\n",
    "        self.name = name\n",
    "\n",
    "    def display_name(self):\n",
    "        print(f\"Dog's Name: {self.name}\")\n",
    "\n",
    "class Labrador(Dog):  # Single Inheritance\n",
    "    def sound(self):\n",
    "        print(\"Labrador woofs\")\n",
    "\n",
    "# Example Usage\n",
    "lab = Labrador(\"Buddy\")\n",
    "lab.display_name()\n",
    "lab.sound()"
   ]
  },
  {
   "cell_type": "code",
   "execution_count": 4,
   "metadata": {},
   "outputs": [
    {
     "name": "stdout",
     "output_type": "stream",
     "text": [
      "Dog's Name: Max\n",
      "Max Guides the way!\n"
     ]
    }
   ],
   "source": [
    "# Multilevel Inheritance\n",
    "class GuideDog(Labrador):  # Multilevel Inheritance\n",
    "    def guide(self):\n",
    "        print(f\"{self.name} Guides the way!\")\n",
    "\n",
    "guide_dog = GuideDog(\"Max\")\n",
    "guide_dog.display_name()\n",
    "guide_dog.guide()"
   ]
  },
  {
   "cell_type": "code",
   "execution_count": 5,
   "metadata": {},
   "outputs": [
    {
     "name": "stdout",
     "output_type": "stream",
     "text": [
      "Dog's Name: Charlie\n",
      "Friendly!\n",
      "Golden Retriever Barks\n"
     ]
    }
   ],
   "source": [
    "# Multiple Inheritance\n",
    "class Friendly:\n",
    "    def greet(self):\n",
    "        print(\"Friendly!\")\n",
    "\n",
    "class GoldenRetriever(Friendly, Dog):  # Multiple Inheritance\n",
    "    def sound(self):\n",
    "        print(\"Golden Retriever Barks\")\n",
    "\n",
    "retriever = GoldenRetriever(\"Charlie\")\n",
    "retriever.display_name()\n",
    "retriever.greet()\n",
    "retriever.sound()\n"
   ]
  },
  {
   "cell_type": "code",
   "execution_count": null,
   "metadata": {},
   "outputs": [],
   "source": []
  }
 ],
 "metadata": {
  "kernelspec": {
   "display_name": "Python 3",
   "language": "python",
   "name": "python3"
  },
  "language_info": {
   "codemirror_mode": {
    "name": "ipython",
    "version": 3
   },
   "file_extension": ".py",
   "mimetype": "text/x-python",
   "name": "python",
   "nbconvert_exporter": "python",
   "pygments_lexer": "ipython3",
   "version": "3.10.1"
  }
 },
 "nbformat": 4,
 "nbformat_minor": 2
}
